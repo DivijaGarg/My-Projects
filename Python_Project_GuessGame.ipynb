{
  "nbformat": 4,
  "nbformat_minor": 0,
  "metadata": {
    "colab": {
      "name": "Python Project:GuessGame.ipynb",
      "provenance": [],
      "collapsed_sections": []
    },
    "kernelspec": {
      "name": "python3",
      "display_name": "Python 3"
    }
  },
  "cells": [
    {
      "cell_type": "markdown",
      "source": [
        "Here in 'Guess The Word' Game we declare a word and we let the user guess the word.For eg-Lets say we declare a word as'apple'but user don't know that the word is apple and let the user to guess the word, so user starts guessing letter by letter. So at first may be user guesses letter'e',we say yes it is present in word,then may be he guess letter 'f',we say no its not there.And we also limit the no of times he can guess letter lets say we set limit on the no of guesses upto 12 letters,so we keep on notifying user that he has 12 turns left,then 11 turns, then 10 and so on.\n",
        "\n",
        "-The user needs to be able to input letter guesses.\n",
        "\n",
        "-A limit should also be set on how many guesses they can use.\n",
        "\n",
        "-Keep notifying the user of the remaining turns."
      ],
      "metadata": {
        "id": "8aijBvxLLxcS"
      }
    },
    {
      "cell_type": "markdown",
      "source": [
        "IMPLEMENTATION\n",
        "\n",
        "->We need a way to grab a word to use for guessing. Let us use the text file for the input.The text file consists of the words from which we have to guess.\n",
        "\n",
        "->We also need functions to check:\n",
        "\n",
        "*if the user has actually inputted a single letter as we will be making user guess single  letter at a time.\n",
        "\n",
        "*if the inputted letter is in the hidden word(and if it is,how many times it appears)\n",
        "\n",
        "*to print letters.\n",
        "\n",
        "*a counter variable to limit guesses.\n",
        "\n",
        "KEY CONCEPTS USED:\n",
        "\n",
        "Random, Variables, Boolean, Input and Output, Integer, Char, String, Length,\n",
        "Print\n"
      ],
      "metadata": {
        "id": "uxHYGG25RXl2"
      }
    },
    {
      "cell_type": "markdown",
      "source": [
        " FIRST METHOD OF CREATING GUESS GAME:"
      ],
      "metadata": {
        "id": "Fg8j8v3fNNjB"
      }
    },
    {
      "cell_type": "code",
      "metadata": {
        "id": "tFxsOr_K_Gde",
        "colab": {
          "base_uri": "https://localhost:8080/"
        },
        "outputId": "969e7099-4fcb-401d-dbe4-718b2d458780"
      },
      "source": [
        "# library that we use in order to choose on random words from a list of words\n",
        "import random\n",
        "# Here the user is asked to enter the name first \n",
        "n=input(\"What is your name?\")\n",
        "print('Good Luck ! ',n)\n",
        "wrd=['rainbow', 'computer', 'science', 'programming','python', 'mathematics', 'player', 'condition','reverse', 'water', 'board', 'geeks']\n",
        "# Function will choose one random word from this list of words \n",
        "word=random.choice(wrd)\n",
        "\n",
        "turns=int(input('No of failed attempts user want:'))\n",
        "print('Guess each character of unknown word') \n",
        "totalchars=\" \"    #Made empty string as only two strings can be added.\n",
        "\n",
        "while turns>0:\n",
        "    # counts the number of times a user fails\n",
        "  failed=0\n",
        "    # all characters from the input  word taking one at a time.\n",
        "  for j in word:\n",
        "        # comparing that character of word with the character in guesses. Each time loop runs if will check each char in j with string containing added chars \n",
        "        #of what user guesssed present in var totalchars again.\n",
        "    if j in totalchars: \n",
        "      print(j)\n",
        "    else:\n",
        "      print('_') \n",
        "      failed=failed+1       # for every failure 1 will be incremented in failure \n",
        "\n",
        "  #When of totalchars var contain all chars of word which are guessed then failed value is not increased by 1 at all as if will print each & every char of j \n",
        "  #without going to else block so failed value remain 0,this means all chars of word are guessed i.e.word is guessed successfully so at failed==0 it print win. \n",
        "  if failed==0:       \n",
        "    print(\"You Win Game\")                                 # user will win the game if failure is 0 and 'You Win Game' will be given as output \n",
        "    print(\"You have correctly guessed word: \",word)         # this print the correct word \n",
        "    break    \n",
        "  \n",
        "    # if user has input the wrong alphabet then it will ask user to enter another alphabet\n",
        "  guess=input('Guess a character:')\n",
        "    # every input character will be stored in totalchars\n",
        "  totalchars= totalchars + guess\n",
        "  \n",
        "    # check input with the character in word\n",
        "  if guess not in word:\n",
        "        # if the character doesn’t match the word then this will be given as output\n",
        "    print(\"No, guessed char \",guess,\" is not present in word\")\n",
        "    turns=turns-1   #OR turns-=1\n",
        "        # this will print the number of turns left for the user \n",
        "    print(\"You have\",turns,\"guesses left\")\n",
        "  if turns==0:\n",
        "    print('You Loose Game')\n",
        "\n",
        "  "
      ],
      "execution_count": null,
      "outputs": [
        {
          "output_type": "stream",
          "name": "stdout",
          "text": [
            "What is your name?Deevija\n",
            "Good Luck !  Deevija\n",
            "No of failed attempts user want:2\n",
            "Guess each character of unknown word\n",
            "_\n",
            "_\n",
            "_\n",
            "_\n",
            "_\n",
            "_\n",
            "_\n",
            "_\n",
            "_\n",
            "_\n",
            "_\n",
            "Guess a character:s\n",
            "No, guessed char  s  is not present in word\n",
            "You have 1 guesses left\n",
            "_\n",
            "_\n",
            "_\n",
            "_\n",
            "_\n",
            "_\n",
            "_\n",
            "_\n",
            "_\n",
            "_\n",
            "_\n",
            "Guess a character:w\n",
            "No, guessed char  w  is not present in word\n",
            "You have 0 guesses left\n",
            "You Loose Game\n"
          ]
        }
      ]
    },
    {
      "cell_type": "markdown",
      "metadata": {
        "id": "zNSQZKMq_MNM"
      },
      "source": [
        "Python is a powerful multi-purpose programming language used by multiple giant companies. It has simple and easy to use syntax making it perfect language for someone trying to learn computer programming for first time. It is a high-level programming language, and its core design philosophy is all about code readability and a syntax which allows programmers to express concepts in a few lines of code.\n",
        "\n",
        "In this article, we will use random module to make a word guessing game. This game is for beginners learning to code in python and to give them a little brief about using strings, loops and conditional(If, else) statements.\n",
        "\n",
        "random module :\n",
        "Sometimes we want the computer to pick a random number in a given range, pick a random element from a list, pick a random card from a deck, flip a coin, etc. The random module provides access to functions that support these types of operations. One such operation is random.choice() method (returns a random item from a list, tuple, or string.) that we are going to use in order to select one random word from a list of words that we’ve created.\n",
        "\n",
        "\n",
        "\n",
        "\n",
        "In this game, there is a list of words present, out of which our interpreter will choose 1 random word. The user first has to input their names and then, will be asked to guess any alphabet. If the random word contains that alphabet, it will be shown as the output(with correct placement) else the program will ask you to guess another alphabet. User will be given 12 turns(can be changed accordingly) to guess the complete word."
      ]
    }
  ]
}