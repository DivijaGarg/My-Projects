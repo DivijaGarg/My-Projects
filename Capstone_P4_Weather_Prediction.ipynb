{
  "nbformat": 4,
  "nbformat_minor": 0,
  "metadata": {
    "colab": {
      "name": "Capstone P4:Weather Prediction.ipynb",
      "provenance": [],
      "collapsed_sections": []
    },
    "kernelspec": {
      "name": "python3",
      "display_name": "Python 3"
    },
    "language_info": {
      "name": "python"
    }
  },
  "cells": [
    {
      "cell_type": "markdown",
      "source": [
        "**Weather Prediction Using Gaussian form of Naive Bayes Algorithm for Classification Technique:**\n",
        "\n",
        "Here we use Gaussian Naive Bayes Classifier model for Weather Prediction"
      ],
      "metadata": {
        "id": "251-kNxeyWGz"
      }
    },
    {
      "cell_type": "markdown",
      "source": [
        "STEP:1- Import Libraries"
      ],
      "metadata": {
        "id": "eELau6wcyqBI"
      }
    },
    {
      "cell_type": "code",
      "source": [
        "import pandas as pd\n",
        "from sklearn.preprocessing import LabelEncoder    \n",
        "from sklearn.naive_bayes import GaussianNB    #GaussianNB classifier model which is use to apply the gaussian Naive Bayes algorithm in dataset. \n",
        "from sklearn.metrics import accuracy_score\n"
      ],
      "metadata": {
        "id": "S1Wu2lqRaxRm"
      },
      "execution_count": null,
      "outputs": []
    },
    {
      "cell_type": "markdown",
      "source": [
        "STEP:2- Getting Dataset"
      ],
      "metadata": {
        "id": "vY4OdK0o0ArC"
      }
    },
    {
      "cell_type": "code",
      "source": [
        "# A)Loading Dataset\n",
        "df = pd.read_csv(\"Weather_data.csv\")\n",
        "print(df)\n",
        "\n",
        "# Preparing Dataset:By separating or defining X(input/other var)and Y var(categorial/target var)\n",
        "X = df.drop('Play',axis='columns')\n",
        "Y = df['Play']\n",
        "print(\"---------------------------\")\n",
        "print(X)\n",
        "print(\"...........................\")\n",
        "print(Y)\n",
        "#The 'Windy'column has t for true and f for false.So all columns except 'Play' are other variables on basis of which we find class and col 'Play' is categorial\n",
        "#or target variable which gives classes based on the values of other var.Acc to the weather conditions the match will be decided, if weather cond are not good \n",
        "#then match will not happen otherwise the match will be played.\n"
      ],
      "metadata": {
        "colab": {
          "base_uri": "https://localhost:8080/"
        },
        "id": "fKnLq5u4wpPP",
        "outputId": "00a0c2ed-3080-478d-daa7-42f7f843aff0"
      },
      "execution_count": null,
      "outputs": [
        {
          "output_type": "stream",
          "name": "stdout",
          "text": [
            "     Outlook  Temp Humidity Windy Play\n",
            "0      Rainy   Hot     High     f   no\n",
            "1      Rainy   Hot     High     t   no\n",
            "2   Overcast   Hot     High     f  yes\n",
            "3      Sunny  Mild     High     f  yes\n",
            "4      Sunny  Cool   Normal     f  yes\n",
            "5      Sunny  Cool   Normal     t   no\n",
            "6   Overcast  Cool   Normal     t  yes\n",
            "7      Rainy  Mild     High     f   no\n",
            "8      Rainy  Cool   Normal     f  yes\n",
            "9      Sunny  Mild   Normal     f  yes\n",
            "10     Rainy  Mild   Normal     t  yes\n",
            "11  Overcast  Mild     High     t  yes\n",
            "12  Overcast   Hot   Normal     f  yes\n",
            "13     Sunny  Mild     High     t   no\n",
            "---------------------------\n",
            "     Outlook  Temp Humidity Windy\n",
            "0      Rainy   Hot     High     f\n",
            "1      Rainy   Hot     High     t\n",
            "2   Overcast   Hot     High     f\n",
            "3      Sunny  Mild     High     f\n",
            "4      Sunny  Cool   Normal     f\n",
            "5      Sunny  Cool   Normal     t\n",
            "6   Overcast  Cool   Normal     t\n",
            "7      Rainy  Mild     High     f\n",
            "8      Rainy  Cool   Normal     f\n",
            "9      Sunny  Mild   Normal     f\n",
            "10     Rainy  Mild   Normal     t\n",
            "11  Overcast  Mild     High     t\n",
            "12  Overcast   Hot   Normal     f\n",
            "13     Sunny  Mild     High     t\n",
            "...........................\n",
            "0      no\n",
            "1      no\n",
            "2     yes\n",
            "3     yes\n",
            "4     yes\n",
            "5      no\n",
            "6     yes\n",
            "7      no\n",
            "8     yes\n",
            "9     yes\n",
            "10    yes\n",
            "11    yes\n",
            "12    yes\n",
            "13     no\n",
            "Name: Play, dtype: object\n"
          ]
        }
      ]
    },
    {
      "cell_type": "markdown",
      "source": [
        "STEP:3- Data Preprocessing"
      ],
      "metadata": {
        "id": "8r4vQ6kQz-RL"
      }
    },
    {
      "cell_type": "code",
      "source": [
        "# CONVERTING TEXT(STRING)DATA INTO NUMERIC DATA:\n",
        "#We see all the data in given dataset are in string format and becaz in ML the algorithms are not made for reading the strings and only consider numerical data.\n",
        "#They can never process the strings. For writing the strings into meaningful numbers, we need to encode string data into numerical data.It is an important pre-\n",
        "#processing step for the structured (matrix form) dataset in supervised learning. \n",
        "\n",
        "#Label Encoding:-It refers to converting the words or strings into a numeric form so as to convert them into the machine-readable form. So, Machine learning \n",
        "#algorithms can then decide in a better way how those labels must be operated and processed.It assigns a unique numeric number(starting from 0) to each of the \n",
        "#values of column.Thus it replace the column text values with a numeric values between 0 & the number of different values-1.And the numbering is not in sequence \n",
        "#(Top-Down), as the numbering is assigned in alphabetical order.    \n",
        "#With help of preprocessing Library module from sklearn package we import LabelEncoder model which is in form of class and contains function which can encode\n",
        "#string into numerics.So, we create object of the LabelEncoder class so to access the functions of this class directly.\n",
        "numeric = LabelEncoder()\n",
        "\n",
        "#We don't want target col values to be in numeric,but we only want other var values i.e.all weather conditions values or data to be in numeric data.\n",
        "\n",
        "# fit_transform() function is use to assign numerical value to text value i.e.string datatype has converted or replaced by numeric data types.So Fit(give data to) \n",
        "# label encoder and return encoded labels.\n",
        "#Parameters: Single Column text values---array-like of shape (n_samples,)\n",
        "#Returns: Encoded labels i.e numeric values---array-like of shape (n_samples,)\n",
        "#Then storing these label it in new column rep by “colname_n”.So,we have added a new column called “colname_n” in same dataset which contains assigned numerical \n",
        "#values associated to the string values of initial column.\n",
        "X['Outlook_n']=numeric.fit_transform(X['Outlook'])\n",
        "X['Temp_n']=numeric.fit_transform(X['Temp'])\n",
        "X['Humidity_n']=numeric.fit_transform(X['Humidity'])\n",
        "X['Windy_n']=numeric.fit_transform(X['Windy'])\n",
        "print(X)\n",
        "print(\"\\n\")\n",
        "\n",
        "#But since, still the initial columns containing text data are present in the dataframe.These columns needs to be removed before we feed the final preprocess data\n",
        "#to machine learning model to train.\n",
        "X_n = X.drop(['Outlook','Temp','Humidity','Windy'],axis='columns')\n",
        "print(X_n)\n"
      ],
      "metadata": {
        "id": "r8RmdhAs0_Uz",
        "colab": {
          "base_uri": "https://localhost:8080/"
        },
        "outputId": "bef8223d-b281-45df-ea70-cffc0bbdb58e"
      },
      "execution_count": null,
      "outputs": [
        {
          "output_type": "stream",
          "name": "stdout",
          "text": [
            "     Outlook  Temp Humidity Windy  Outlook_n  Temp_n  Humidity_n  Windy_n\n",
            "0      Rainy   Hot     High     f          1       1           0        0\n",
            "1      Rainy   Hot     High     t          1       1           0        1\n",
            "2   Overcast   Hot     High     f          0       1           0        0\n",
            "3      Sunny  Mild     High     f          2       2           0        0\n",
            "4      Sunny  Cool   Normal     f          2       0           1        0\n",
            "5      Sunny  Cool   Normal     t          2       0           1        1\n",
            "6   Overcast  Cool   Normal     t          0       0           1        1\n",
            "7      Rainy  Mild     High     f          1       2           0        0\n",
            "8      Rainy  Cool   Normal     f          1       0           1        0\n",
            "9      Sunny  Mild   Normal     f          2       2           1        0\n",
            "10     Rainy  Mild   Normal     t          1       2           1        1\n",
            "11  Overcast  Mild     High     t          0       2           0        1\n",
            "12  Overcast   Hot   Normal     f          0       1           1        0\n",
            "13     Sunny  Mild     High     t          2       2           0        1\n",
            "\n",
            "\n",
            "    Outlook_n  Temp_n  Humidity_n  Windy_n\n",
            "0           1       1           0        0\n",
            "1           1       1           0        1\n",
            "2           0       1           0        0\n",
            "3           2       2           0        0\n",
            "4           2       0           1        0\n",
            "5           2       0           1        1\n",
            "6           0       0           1        1\n",
            "7           1       2           0        0\n",
            "8           1       0           1        0\n",
            "9           2       2           1        0\n",
            "10          1       2           1        1\n",
            "11          0       2           0        1\n",
            "12          0       1           1        0\n",
            "13          2       2           0        1\n"
          ]
        }
      ]
    },
    {
      "cell_type": "markdown",
      "source": [
        "STEP:4- Training the Model"
      ],
      "metadata": {
        "id": "jqmohzFvO-Md"
      }
    },
    {
      "cell_type": "code",
      "source": [
        "#Now, make object of  GaussianNB class and then this object call the funct fit()which Train the Model on datasets of preprocessed X and Y vars values.\n",
        "classifier = GaussianNB()\n",
        "classifier.fit(X_n, Y)\n"
      ],
      "metadata": {
        "id": "ABjC0S9pGIfV",
        "colab": {
          "base_uri": "https://localhost:8080/"
        },
        "outputId": "94da675e-7500-4370-b08a-537e6eab5eaf"
      },
      "execution_count": null,
      "outputs": [
        {
          "output_type": "execute_result",
          "data": {
            "text/plain": [
              "GaussianNB()"
            ]
          },
          "metadata": {},
          "execution_count": 5
        }
      ]
    },
    {
      "cell_type": "markdown",
      "source": [
        "STEP:5- Testing the Model"
      ],
      "metadata": {
        "id": "9JYIkl9VzQT4"
      }
    },
    {
      "cell_type": "code",
      "source": [
        "#Prediction of target var value i.e.class of categorial column based on the numeric values of weather conditions data i.e.value of other variables and it returns \n",
        "#the play column value i.e.class 'Yes'or 'No'.If 'Yes',then weather conditions are suitable to play otherwise they are not suitable to play.\n",
        "#Here we pass some new weather conditions data in numeric form as 2-D array which model has not seen before.\n",
        "pre = classifier.predict([[0,0,0,1]])\n",
        "print(pre)"
      ],
      "metadata": {
        "colab": {
          "base_uri": "https://localhost:8080/"
        },
        "id": "zbKVN5IazRFC",
        "outputId": "182dc301-2133-4cc5-cd8f-b73b76ba3dad"
      },
      "execution_count": null,
      "outputs": [
        {
          "output_type": "stream",
          "name": "stdout",
          "text": [
            "['yes']\n"
          ]
        },
        {
          "output_type": "stream",
          "name": "stderr",
          "text": [
            "/usr/local/lib/python3.7/dist-packages/sklearn/base.py:451: UserWarning: X does not have valid feature names, but GaussianNB was fitted with feature names\n",
            "  \"X does not have valid feature names, but\"\n"
          ]
        }
      ]
    },
    {
      "cell_type": "markdown",
      "source": [
        "STEP:6- Evaluation- Finding the Efficiency of Model"
      ],
      "metadata": {
        "id": "3dzJq7xy0J1d"
      }
    },
    {
      "cell_type": "code",
      "source": [
        "#Accuracy of model based on its training data by using imported model accuracy_score in form of function used in finding the efficency for classification technique\n",
        "#by comparing actual values of Y with returned predicted values of X_n.\n",
        "accuracy_score(Y,classifier.predict(X_n))"
      ],
      "metadata": {
        "colab": {
          "base_uri": "https://localhost:8080/"
        },
        "id": "X7sFhoYd0KbM",
        "outputId": "ebfbc2a4-30aa-42b9-a24a-10b4712bf909"
      },
      "execution_count": null,
      "outputs": [
        {
          "output_type": "execute_result",
          "data": {
            "text/plain": [
              "0.8571428571428571"
            ]
          },
          "metadata": {},
          "execution_count": 18
        }
      ]
    },
    {
      "cell_type": "code",
      "source": [
        "#Accuracy of model based on training data by using inbuild member function score() inside class GaussianNB.It automatically first predict values of X_n and then \n",
        "#compare it with actual values of Y.\n",
        "classifier.score(X_n, Y)"
      ],
      "metadata": {
        "colab": {
          "base_uri": "https://localhost:8080/"
        },
        "id": "vnaDqLjs4vhc",
        "outputId": "bdfa71dc-d2f4-47e5-b896-3539b49db09e"
      },
      "execution_count": null,
      "outputs": [
        {
          "output_type": "execute_result",
          "data": {
            "text/plain": [
              "0.8571428571428571"
            ]
          },
          "metadata": {},
          "execution_count": 19
        }
      ]
    },
    {
      "cell_type": "code",
      "source": [
        "#So by using both methods we are getting the same accuracy for given training dataset."
      ],
      "metadata": {
        "id": "dUplpTTH5zee"
      },
      "execution_count": null,
      "outputs": []
    }
  ]
}